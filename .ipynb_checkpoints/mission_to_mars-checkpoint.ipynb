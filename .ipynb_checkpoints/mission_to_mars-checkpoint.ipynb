{
 "cells": [
  {
   "cell_type": "code",
   "execution_count": 1,
   "metadata": {},
   "outputs": [],
   "source": [
    " # Dependencies\n",
    "from bs4 import BeautifulSoup\n",
    "import requests\n",
    "import pymongo\n",
    "from splinter import Browser\n",
    "import pandas as pd\n",
    "import pprint\n",
    "browser = Browser('chrome')"
   ]
  },
  {
   "cell_type": "code",
   "execution_count": 2,
   "metadata": {},
   "outputs": [],
   "source": [
    " # URL of page to be scraped\n",
    "url = \"https://mars.nasa.gov/news/?page=1&per_page=40&order=publish_date+desc%2Ccreated_at+desc&search=&category=19%2C165%2C184%2C204&blank_scope=Latest\"\n",
    "browser.visit(url)"
   ]
  },
  {
   "cell_type": "code",
   "execution_count": 3,
   "metadata": {},
   "outputs": [],
   "source": [
    " # Initialize PyMongo to work with MongoDBs\n",
    "conn = 'mongodb://localhost:27017'\n",
    "client = pymongo.MongoClient(conn)"
   ]
  },
  {
   "cell_type": "code",
   "execution_count": 4,
   "metadata": {},
   "outputs": [],
   "source": [
    "# # executable_path = {'executable_path': '/usr/local/bin/chromedriver'}\n",
    "# browser = Browser('chrome', headless=False)"
   ]
  },
  {
   "cell_type": "code",
   "execution_count": 5,
   "metadata": {},
   "outputs": [],
   "source": [
    "# Define database and collection\n",
    "db = client.marsh_title_db\n",
    "collection = db.items"
   ]
  },
  {
   "cell_type": "code",
   "execution_count": 6,
   "metadata": {},
   "outputs": [],
   "source": [
    "# Retrieve page with the requests module\n",
    "response = requests.get(url)"
   ]
  },
  {
   "cell_type": "code",
   "execution_count": 7,
   "metadata": {},
   "outputs": [],
   "source": [
    "#  # Create BeautifulSoup object; parse with 'html.parser'\n",
    "# soup = BeautifulSoup(response.text, 'html.parser')"
   ]
  },
  {
   "cell_type": "code",
   "execution_count": 8,
   "metadata": {},
   "outputs": [],
   "source": [
    "# #  Test connection and examine the results\n",
    "# print(soup.prettify())"
   ]
  },
  {
   "cell_type": "code",
   "execution_count": 9,
   "metadata": {},
   "outputs": [],
   "source": [
    "# # results are returned as an iterable list\n",
    "# # results = soup.find_all('li', class_='result-row')\n",
    "# '//*[@id=\"page\"]/div[2]/div/article/div/section/div/ul/li[2]/div/div/div[2]'"
   ]
  },
  {
   "cell_type": "code",
   "execution_count": 10,
   "metadata": {},
   "outputs": [],
   "source": [
    "# returned as an iterable list\n",
    "# results = soup.find_all('div', class_='content_title')\n",
    "\n",
    "# for result in results:\n",
    "#     title = result.text\n",
    "#     print(title)"
   ]
  },
  {
   "cell_type": "code",
   "execution_count": 11,
   "metadata": {},
   "outputs": [],
   "source": [
    "# # returned as an iterable list\n",
    "# results = soup.find_all('div', class_='article_teaser_body')\n",
    "# print(results)\n",
    "# for result in results:\n",
    "#     title = result.text\n",
    "#     print(title)"
   ]
  },
  {
   "cell_type": "code",
   "execution_count": 12,
   "metadata": {},
   "outputs": [
    {
     "name": "stdout",
     "output_type": "stream",
     "text": [
      "news_title =  For InSight, Dust Cleanings Will Yield New Science\n",
      "news_title =  InSight Captures Sunrise and Sunset on Mars\n",
      "news_title =  NASA Social Media and Websites Win Webby Awards \n",
      "news_title =  NASA's InSight Detects First Likely 'Quake' on Mars\n",
      "news_title =  Things Are Stacking up for NASA's Mars 2020 Spacecraft\n",
      "news_title =  Curiosity Tastes First Sample in 'Clay-Bearing Unit'\n",
      "news_title =  More Testing for Mars InSight's 'Mole'\n",
      "news_title =  NASA Garners 7 Webby Award Nominations\n",
      "news_title =  Curiosity Captured Two Solar Eclipses on Mars\n",
      "news_title =  NASA's Mars Helicopter Completes Flight Tests\n",
      "news_title =  Asteroids, Hydrogen Make Great Recipe for Life on Mars\n",
      "news_title =  Catch NASA's JPL at the Clippers SciFest This Weekend\n",
      "news_title =  NASA's Mars 2020 Rover Is Put to the Test\n",
      "news_title =  Opportunity's Parting Shot Was a Beautiful Panorama\n",
      "news_title =  Curiosity Resumes Operations After Switching Computers\n",
      "news_title =  InSight Lands Praise and a Proclamation from LA County\n",
      "news_title =  InSight Is the Newest Mars Weather Service\n",
      "news_title =  Six Things to Know About NASA's Opportunity Rover\n",
      "news_title =  NASA's Opportunity Rover Mission on Mars Comes to End\n",
      "news_title =  NASA's InSight Prepares to Take Mars' Temperature\n",
      "news_title =  NASA to Share Results of Effort to Recover Mars Rover\n",
      "news_title =  NASA's MAVEN Spacecraft Shrinking its Mars Orbit to Prepare for Mars 2020 Rover\n",
      "news_title =  360 Video: Curiosity Rover Departs Vera Rubin Ridge\n",
      "news_title =  Beyond Mars, the Mini MarCO Spacecraft Fall Silent\n",
      "news_title =  InSight's Seismometer Now Has a Cozy Shelter on Mars\n",
      "news_title =  \"Mars Buggy\" Curiosity Measures a Mountain's Gravity\n",
      "news_title =  Curiosity Says Farewell to Mars' Vera Rubin Ridge\n",
      "news_title =  Rover Team Beaming New Commands to Opportunity on Mars\n",
      "news_title =  NASA's Opportunity Rover Logs 15 Years on Mars\n",
      "news_title =  NASA's InSight Places First Instrument on Mars\n",
      "news_title =  InSight Engineers Have Made a Martian Rock Garden\n",
      "news_title =  Mars InSight Lander Seen in First Images from Space \n",
      "news_title =  NASA's InSight Takes Its First Selfie\n",
      "news_title =  NASA InSight Lander 'Hears' Martian Winds \n",
      "news_title =  NASA's Mars InSight Flexes Its Arm\n",
      "news_title =  Mars New Home 'a Large Sandbox'\n",
      "news_title =  NASA Hears MarCO CubeSats Loud and Clear from Mars \n",
      "news_title =  InSight Is Catching Rays on Mars\n",
      "news_title =  NASA InSight Lander Arrives on Martian Surface \n",
      "news_title =  Landing Day for InSight\n",
      "news_title =  \n",
      "\n",
      "NASA Announces Landing Site for Mars 2020 Rover\n",
      "\n",
      "\n",
      "news_title =  \n",
      "\n",
      "Opportunity Hunkers Down During Dust Storm\n",
      "\n",
      "\n",
      "news_title =  \n",
      "\n",
      "NASA Finds Ancient Organic Material, Mysterious Methane on Mars\n",
      "\n",
      "\n",
      "news_title =  \n",
      "\n",
      "NASA Garners 7 Webby Award Nominations\n",
      "\n",
      "\n",
      "news_title =  \n",
      "\n",
      "NASA's Opportunity Rover Mission on Mars Comes to End\n",
      "\n",
      "\n",
      "news_title =  \n",
      "\n",
      "NASA's InSight Places First Instrument on Mars\n",
      "\n",
      "\n",
      "news_title =  \n",
      "\n",
      "NASA Announces Landing Site for Mars 2020 Rover\n",
      "\n",
      "\n",
      "news_title =  \n",
      "\n",
      "Opportunity Hunkers Down During Dust Storm\n",
      "\n",
      "\n",
      "news_title =  \n",
      "\n",
      "NASA Finds Ancient Organic Material, Mysterious Methane on Mars\n",
      "\n",
      "\n",
      "news_title =  \n",
      "\n",
      "NASA Garners 7 Webby Award Nominations\n",
      "\n",
      "\n",
      "news_title =  \n",
      "\n",
      "NASA's Opportunity Rover Mission on Mars Comes to End\n",
      "\n",
      "\n",
      "news_title =  \n",
      "\n",
      "NASA's InSight Places First Instrument on Mars\n",
      "\n",
      "\n"
     ]
    }
   ],
   "source": [
    "\n",
    "html = browser.html\n",
    "soup = BeautifulSoup(html, 'html.parser')\n",
    "\n",
    "quotes = soup.find_all('div', class_='content_title')\n",
    "\n",
    "for quote in quotes:\n",
    "        quotes[0].text.replace('\\n', \"\")\n",
    "        print(\"news_title = \",quote.text)        "
   ]
  },
  {
   "cell_type": "code",
   "execution_count": 13,
   "metadata": {},
   "outputs": [
    {
     "name": "stdout",
     "output_type": "stream",
     "text": [
      "news_title =  Wind can be crucial to clearing dust from spacecraft solar panels on Mars. With InSight's meteorological sensors, scientists get their first measurements of wind and dust interacting \"live\" on the Martian surface.  \n",
      "news_title =  InSight joins the rest of NASA's Red Planet surface missions, all of which have photographed either the start or end of a Martian day.\n",
      "news_title =  NASA's social media presence, the InSight mission social media accounts, NASA.gov and SolarSystem.NASA.gov will be honored at the 2019 Webby Awards - \"the Oscars of the Internet.\"\n",
      "news_title =  While their causes are still unknown, one of three shaking events looks a lot like the quakes detected on the Moon by the Apollo missions.\n",
      "news_title =  As the July 2020 launch date inches closer, the next spacecraft headed to the Red Planet is assembled for more testing.\n",
      "news_title =  This new region on Mars might reveal more about the role of water on Mount Sharp.\n",
      "news_title =  After the mission's heat probe began hammering last week, it appears to have hit a rock. The team is analyzing data before they hammer again.\n",
      "news_title =  Nominees include four JPL projects: the solar system and climate websites, InSight social media, and a 360-degree Earth video. Public voting closes April 18, 2019.\n",
      "news_title =  Observing the Martian moons Phobos and Deimos crossing in front of the Sun helps scientists better understand their orbits.\n",
      "news_title =  The first helicopter to fly on Mars had its first flight on Earth.\n",
      "news_title =  Laser blasts in lab tests suggest asteroid bombardment could have provided key ingredients for life on ancient Mars.\n",
      "news_title =  Students and families can meet a Mars rover, take a virtual tour through our solar system and explore alien worlds with NASA's Jet Propulsion Laboratory at the Clippers SciFest SoCal.\n",
      "news_title =  In January, Mars 2020 engineers and technicians took over JPL's cleanroom to put the mission's cruise, entry capsule, descent stage and rover through their paces.\n",
      "news_title =  NASA declared the record-setting rover's mission complete on Feb. 13, 2019, but the final image from the rover has just been processed.\n",
      "news_title =  Curiosity experienced a computer reset on its Side-A computer on Wednesday, March 6, 2019 (Sol 2,339), that triggered the rover's safe mode.\n",
      "news_title =  Several members of the Mars InSight team accepted a proclamation on behalf of the mission from L.A. County Board of Supervisors on Tuesday, Feb. 19.\n",
      "news_title =  By collecting data around the clock, NASA's lander will provide unique science about the Martian surface.\n",
      "news_title =  Opportunity's mission is complete. Here are highlights from its time on Mars.\n",
      "news_title =  NASA's Opportunity Mars rover mission is complete after 15 years on Mars. Opportunity's record-breaking exploration laid the groundwork for future missions to the Red Planet.\n",
      "news_title =  The lander's second instrument is on the ground. But its ‘mole’ — a burrowing probe — has a long way to go.\n",
      "news_title =  NASA will discuss the status of its Mars Exploration Rover Opportunity in a media briefing at 11 a.m. PST (2 p.m. EST) Wednesday, Feb. 13, from the Jet Propulsion Laboratory.\n",
      "news_title =  The MAVEN spacecraft today is starting a campaign to tighten its orbit around Mars to prepare to serve as a data-relay satellite for NASA’s Mars 2020 rover, which launches next year.\n",
      "news_title =  This panorama from the Mast Camera (Mastcam) on NASA's Curiosity Mars rover was taken on Dec. 19 (Sol 2265). The rover's last drill location on Vera Rubin Ridge is visible, as well as the clay region it will spend the next year exploring.\n",
      "news_title =  The first CubeSat mission to deep space may have reached their limit, but they could inspire future NASA missions.\n",
      "news_title =  A domed shield has been set over one of InSight's primary science instruments, protecting it from Mars' wind and temperature changes.\n",
      "news_title =  Smartphone-like sensors on the NASA rover were used to calculate the density of Mount Sharp, offering new clues to its formation.\n",
      "news_title =  The Mars rover is moving on and has taken its last selfie on the ridge it's explored for more than a year.\n",
      "news_title =  Engineers at JPL have begun transmitting a new set of commands to Opportunity in an attempt to compel the Mars rover to contact Earth.\n",
      "news_title =  The rover landed in a region of the Red Planet called Meridiani Planum 16 years ago today, on Jan. 24, 2004.\n",
      "news_title =  In deploying its first instrument onto the surface of Mars, the lander completes a major mission milestone.\n",
      "news_title =  Reconstructing Mars here on Earth lets them practice setting down the lander's science instruments.\n",
      "news_title =  Look closely, and you can make out the lander's solar panels.\n",
      "news_title =  Two new image mosaics detail the lander's deck and \"workspace\" — the surface where it will eventually set down its science instruments.\n",
      "news_title =  Vibrations picked up by two spacecraft instruments have provided the first sounds of Martian wind.\n",
      "news_title =  Now unstowed, the spacecraft's robotic arm will point a camera located on its elbow and take images of the surroundings.\n",
      "news_title =  With InSight safely on the surface of Mars, the mission team is busy learning more about the spacecraft's landing site.\n",
      "news_title =  A pair of tiny, experimental spacecraft fulfilled their mission yesterday, relaying back near-real-time data during InSight's landing.\n",
      "news_title =  The lander has sent data indicating its solar panels are open and receiving sunlight to power its surface operations.\n",
      "news_title =  The touchdown marks the eighth time NASA has successfully landed a spacecraft on Mars.\n",
      "news_title =  NASA's InSight spacecraft is on target for Mars landing at around noon PST today.\n"
     ]
    }
   ],
   "source": [
    "for x in range(1, 2):\n",
    "\n",
    "    html = browser.html\n",
    "    soup = BeautifulSoup(html, 'html.parser')\n",
    "\n",
    "    quotes = soup.find_all('div', class_='article_teaser_body')\n",
    "    \n",
    "    for quote in quotes:\n",
    "            print(\"news_title = \",quote.text)"
   ]
  },
  {
   "cell_type": "code",
   "execution_count": 14,
   "metadata": {},
   "outputs": [
    {
     "name": "stdout",
     "output_type": "stream",
     "text": [
      "https://www.jpl.nasa.gov/spaceimages/images/wallpaper/PIA17551-1920x1200.jpg\n"
     ]
    }
   ],
   "source": [
    "featured_image_url = 'https://www.jpl.nasa.gov/spaceimages/images/wallpaper/PIA17551-1920x1200.jpg'\n",
    "print(featured_image_url)"
   ]
  },
  {
   "cell_type": "code",
   "execution_count": 15,
   "metadata": {},
   "outputs": [
    {
     "name": "stdout",
     "output_type": "stream",
     "text": [
      "https://twitter.com/marswxreport?lang=en&lang=en\n"
     ]
    }
   ],
   "source": [
    " # URL (NASA Tweet) of page to be scraped\n",
    "urlNT = \"https://twitter.com/marswxreport?lang=en&lang=en\"\n",
    "browser.visit(urlNT)\n",
    "print(urlNT)"
   ]
  },
  {
   "cell_type": "code",
   "execution_count": 16,
   "metadata": {},
   "outputs": [
    {
     "name": "stdout",
     "output_type": "stream",
     "text": [
      "\n",
      "InSight sol 157 (2019-05-06) low -100.2ºC (-148.4ºF) high -18.4ºC (-1.2ºF)\n",
      "winds from the W at 4.1 m/s (9.2 mph) gusting to 14.6 m/s (32.7 mph)\n",
      "pressure at 7.40 hPapic.twitter.com/R6BliV8xpj\n",
      "\n"
     ]
    }
   ],
   "source": [
    "html = browser.html\n",
    "soup = BeautifulSoup(html, 'html.parser')\n",
    "\n",
    "Tweets = soup.find_all('div', 'js-tweet-text-container', 'p')[0]\n",
    "print(Tweets.text)"
   ]
  },
  {
   "cell_type": "code",
   "execution_count": 17,
   "metadata": {},
   "outputs": [],
   "source": [
    "# AF - Mars Facts\n",
    "# create URL #4 to be scraped\n",
    "\n",
    "Mars_Facts_URL = 'https://space-facts.com/mars/'"
   ]
  },
  {
   "cell_type": "code",
   "execution_count": 18,
   "metadata": {},
   "outputs": [
    {
     "data": {
      "text/plain": [
       "[                      0                              1\n",
       " 0  Equatorial Diameter:                       6,792 km\n",
       " 1       Polar Diameter:                       6,752 km\n",
       " 2                 Mass:  6.42 x 10^23 kg (10.7% Earth)\n",
       " 3                Moons:            2 (Phobos & Deimos)\n",
       " 4       Orbit Distance:       227,943,824 km (1.52 AU)\n",
       " 5         Orbit Period:           687 days (1.9 years)\n",
       " 6  Surface Temperature:                  -153 to 20 °C\n",
       " 7         First Record:              2nd millennium BC\n",
       " 8          Recorded By:           Egyptian astronomers]"
      ]
     },
     "execution_count": 18,
     "metadata": {},
     "output_type": "execute_result"
    }
   ],
   "source": [
    "# Use Pandas show the url table\n",
    "\n",
    "Mars_Fact_Table = pd.read_html(Mars_Facts_URL)\n",
    "Mars_Fact_Table"
   ]
  },
  {
   "cell_type": "code",
   "execution_count": 19,
   "metadata": {},
   "outputs": [
    {
     "data": {
      "text/plain": [
       "'<table border=\"1\" class=\"dataframe\">\\n  <thead>\\n    <tr style=\"text-align: right;\">\\n      <th></th>\\n      <th>0</th>\\n      <th>1</th>\\n    </tr>\\n  </thead>\\n  <tbody>\\n    <tr>\\n      <th>0</th>\\n      <td>Equatorial Diameter:</td>\\n      <td>6,792 km</td>\\n    </tr>\\n    <tr>\\n      <th>1</th>\\n      <td>Polar Diameter:</td>\\n      <td>6,752 km</td>\\n    </tr>\\n    <tr>\\n      <th>2</th>\\n      <td>Mass:</td>\\n      <td>6.42 x 10^23 kg (10.7% Earth)</td>\\n    </tr>\\n    <tr>\\n      <th>3</th>\\n      <td>Moons:</td>\\n      <td>2 (Phobos &amp; Deimos)</td>\\n    </tr>\\n    <tr>\\n      <th>4</th>\\n      <td>Orbit Distance:</td>\\n      <td>227,943,824 km (1.52 AU)</td>\\n    </tr>\\n    <tr>\\n      <th>5</th>\\n      <td>Orbit Period:</td>\\n      <td>687 days (1.9 years)</td>\\n    </tr>\\n    <tr>\\n      <th>6</th>\\n      <td>Surface Temperature:</td>\\n      <td>-153 to 20 °C</td>\\n    </tr>\\n    <tr>\\n      <th>7</th>\\n      <td>First Record:</td>\\n      <td>2nd millennium BC</td>\\n    </tr>\\n    <tr>\\n      <th>8</th>\\n      <td>Recorded By:</td>\\n      <td>Egyptian astronomers</td>\\n    </tr>\\n  </tbody>\\n</table>'"
      ]
     },
     "execution_count": 19,
     "metadata": {},
     "output_type": "execute_result"
    }
   ],
   "source": [
    "# Use Pandas to convert the data to a HTML table string.\n",
    "\n",
    "html_table = Mars_Fact_Table[0].to_html()\n",
    "html_table"
   ]
  },
  {
   "cell_type": "code",
   "execution_count": 20,
   "metadata": {},
   "outputs": [],
   "source": [
    "# Mars Hemispheres\n",
    "\n",
    "# ReTell the directory where Chromedriver is\n",
    "\n",
    "executable_path = {'executable_path' : 'C:\\chromedriver'}\n",
    "browser = Browser('chrome', **executable_path, headless=False)"
   ]
  },
  {
   "cell_type": "code",
   "execution_count": 62,
   "metadata": {},
   "outputs": [],
   "source": [
    "Mars_Hem_URL = 'https://astrogeology.usgs.gov/search/results?q=hemisphere+enhanced&k1=target&v1=Mars'\n",
    "\n",
    "browser.visit(Mars_Hem_URL)"
   ]
  },
  {
   "cell_type": "code",
   "execution_count": 63,
   "metadata": {},
   "outputs": [],
   "source": [
    "html = browser.html\n",
    "soup = BeautifulSoup(html, 'html.parser')"
   ]
  },
  {
   "cell_type": "code",
   "execution_count": 64,
   "metadata": {},
   "outputs": [
    {
     "data": {
      "text/plain": [
       "[<h3>Cerberus Hemisphere Enhanced</h3>,\n",
       " <h3>Schiaparelli Hemisphere Enhanced</h3>,\n",
       " <h3>Syrtis Major Hemisphere Enhanced</h3>,\n",
       " <h3>Valles Marineris Hemisphere Enhanced</h3>]"
      ]
     },
     "execution_count": 64,
     "metadata": {},
     "output_type": "execute_result"
    }
   ],
   "source": [
    "results = soup.find_all(\"h3\")\n",
    "results"
   ]
  },
  {
   "cell_type": "code",
   "execution_count": 65,
   "metadata": {},
   "outputs": [],
   "source": [
    "# Creating and populating Titles dictionary\n",
    "\n",
    "titles = []\n",
    "\n",
    "for result in results:\n",
    "    result = str(result)\n",
    "    result = result[4:-14]\n",
    "    titles.append(result)"
   ]
  },
  {
   "cell_type": "code",
   "execution_count": 66,
   "metadata": {},
   "outputs": [
    {
     "data": {
      "text/plain": [
       "['Cerberus Hemisphere',\n",
       " 'Schiaparelli Hemisphere',\n",
       " 'Syrtis Major Hemisphere',\n",
       " 'Valles Marineris Hemisphere']"
      ]
     },
     "execution_count": 66,
     "metadata": {},
     "output_type": "execute_result"
    }
   ],
   "source": [
    "titles"
   ]
  },
  {
   "cell_type": "code",
   "execution_count": 67,
   "metadata": {},
   "outputs": [],
   "source": [
    "# Creating and populating img_url dictionary\n",
    "\n",
    "img_url = []\n",
    "\n",
    "for title in titles:\n",
    "    browser.click_link_by_partial_text(title)\n",
    "    \n",
    "    #grabbing html and Beautiful Soup from a few cells above\n",
    "    html = browser.html\n",
    "    soup = BeautifulSoup(html, 'html.parser')\n",
    "    \n",
    "    img_url.append(soup.find('div', class_ = 'downloads').find('a')['href'])"
   ]
  },
  {
   "cell_type": "code",
   "execution_count": 68,
   "metadata": {},
   "outputs": [
    {
     "data": {
      "text/plain": [
       "['http://astropedia.astrogeology.usgs.gov/download/Mars/Viking/cerberus_enhanced.tif/full.jpg',\n",
       " 'http://astropedia.astrogeology.usgs.gov/download/Mars/Viking/schiaparelli_unenhanced.tif/full.jpg',\n",
       " 'http://astropedia.astrogeology.usgs.gov/download/Mars/Viking/syrtis_major_unenhanced.tif/full.jpg',\n",
       " 'http://astropedia.astrogeology.usgs.gov/download/Mars/Viking/valles_marineris_unenhanced.tif/full.jpg']"
      ]
     },
     "execution_count": 68,
     "metadata": {},
     "output_type": "execute_result"
    }
   ],
   "source": [
    "img_url"
   ]
  },
  {
   "cell_type": "code",
   "execution_count": 69,
   "metadata": {},
   "outputs": [],
   "source": [
    "# Creating and populating hemisphere_image_urls \n",
    "\n",
    "hemisphere_image_urls = []\n",
    "\n",
    "for title, img_url in zip (titles, img_url):\n",
    "    hemisphere_image_urls.append({'title': title, 'img_url_url': img_url})"
   ]
  },
  {
   "cell_type": "code",
   "execution_count": 70,
   "metadata": {},
   "outputs": [
    {
     "data": {
      "text/plain": [
       "[{'title': 'Cerberus Hemisphere',\n",
       "  'img_url_url': 'http://astropedia.astrogeology.usgs.gov/download/Mars/Viking/cerberus_enhanced.tif/full.jpg'},\n",
       " {'title': 'Schiaparelli Hemisphere',\n",
       "  'img_url_url': 'http://astropedia.astrogeology.usgs.gov/download/Mars/Viking/schiaparelli_unenhanced.tif/full.jpg'},\n",
       " {'title': 'Syrtis Major Hemisphere',\n",
       "  'img_url_url': 'http://astropedia.astrogeology.usgs.gov/download/Mars/Viking/syrtis_major_unenhanced.tif/full.jpg'},\n",
       " {'title': 'Valles Marineris Hemisphere',\n",
       "  'img_url_url': 'http://astropedia.astrogeology.usgs.gov/download/Mars/Viking/valles_marineris_unenhanced.tif/full.jpg'}]"
      ]
     },
     "execution_count": 70,
     "metadata": {},
     "output_type": "execute_result"
    }
   ],
   "source": [
    "hemisphere_image_urls"
   ]
  },
  {
   "cell_type": "code",
   "execution_count": null,
   "metadata": {},
   "outputs": [],
   "source": []
  }
 ],
 "metadata": {
  "kernelspec": {
   "display_name": "Python 3",
   "language": "python",
   "name": "python3"
  },
  "language_info": {
   "codemirror_mode": {
    "name": "ipython",
    "version": 3
   },
   "file_extension": ".py",
   "mimetype": "text/x-python",
   "name": "python",
   "nbconvert_exporter": "python",
   "pygments_lexer": "ipython3",
   "version": "3.7.1"
  }
 },
 "nbformat": 4,
 "nbformat_minor": 2
}
